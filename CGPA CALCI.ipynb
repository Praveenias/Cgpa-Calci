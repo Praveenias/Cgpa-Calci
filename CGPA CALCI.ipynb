{
 "cells": [
  {
   "cell_type": "markdown",
   "metadata": {},
   "source": [
    "#        CGPA CALCULATOR"
   ]
  },
  {
   "cell_type": "code",
   "execution_count": 1,
   "metadata": {},
   "outputs": [
    {
     "name": "stdout",
     "output_type": "stream",
     "text": [
      "\t\t****CGPA CALCULATOR*****\n",
      "Enter the department cse/ece/mech:cse\n",
      "ENTER YOUR SEMESTER:1\n",
      "ENTER YOUR GRADE ON MATHS-1\n",
      "b\n",
      "ENTER YOUR GRADE ON ENGINEERING CHEMISTRY\n",
      "a\n",
      "ENTER YOUR GRADE ON ENGINEERING PHYSICS\n",
      "a\n",
      "ENTER YOUR GRADE ON ENGINEERING GRAPHICS\n",
      "a+\n",
      "ENTER YOUR GRADE ON PROBLEM SOLVING THROUGH PYTHON\n",
      "b+\n",
      "ENTER YOUR GRADE ON ENGLISH-1\n",
      "a\n",
      "ENTER YOUR GRADE ON PYTHON LABROTARY\n",
      "o\n",
      "ENTER YOUR GRADE ON PHYSICS AND CHEMISTRY LABORATATY\n",
      "o\n",
      "GPA FOR THE 1 SEMESTER IS 8.04\n"
     ]
    },
    {
     "data": {
      "image/png": "[encoded data removed]",
      "text/plain": [
       "<Figure size 432x288 with 1 Axes>"
      ]
     },
     "metadata": {
      "needs_background": "light"
     },
     "output_type": "display_data"
    }
   ],
   "source": [
    "import matplotlib.pyplot as plt\n",
    "import numpy as np\n",
    "print(\"\\t\\t****CGPA CALCULATOR*****\")\n",
    "a=input(\"Enter the department cse/ece/mech:\")\n",
    "def cgpa(dept_paper,dept_credit):\n",
    "    try:\n",
    "        grade={'o':10,'a+':9,'a':8,'b+':7,'b':6,'ra':0}\n",
    "        b=int(input(\"ENTER YOUR SEMESTER:\"))\n",
    "        k=0\n",
    "        li=[]\n",
    "        cr=0\n",
    "        for i in range(len(dept_paper[b-1])):\n",
    "            print(\"ENTER YOUR GRADE ON\",dept_paper[b-1][i])\n",
    "            w=input()\n",
    "            li.append(grade[w])\n",
    "            if w=='' or w not in grade:\n",
    "                print(\"PLEASE,ENTER VALID INPUT\")\n",
    "                break\n",
    "                return\n",
    "            elif w=='ra':\n",
    "                pass\n",
    "            else:\n",
    "                \n",
    "                k+=int(grade[w]*dept_credit[b-1][i])\n",
    "                cr+=dept_credit[b-1][i]\n",
    "        print(\"GPA FOR THE {} SEMESTER IS {}\".format(b,k/cr))\n",
    "    except:\n",
    "        print(\"\\t\\t**&**TRY ANOTHER TIME**&**\")\n",
    "    xaxis=np.arange(len(cse_paper[b]))\n",
    "    plt.xticks(xaxis,cse_paper[b-1])\n",
    "    plt.bar(xaxis,li)\n",
    "\n",
    "if a=='cse':\n",
    "    cse_paper=[['MATHS-1','ENGINEERING CHEMISTRY','ENGINEERING PHYSICS','ENGINEERING GRAPHICS','PROBLEM SOLVING THROUGH PYTHON','ENGLISH-1','PYTHON LABROTARY','PHYSICS AND CHEMISTRY LABORATATY'],['ENGLISH-2','PHYSICS=2','EVS','MATHS-2','PROGRAMING IN C','BASIC ELECTRIC ENGINEERING','ENGINEERNG PRACTISE LABAROTARY','C LABORARTRY'],['DISCREATE MATHEMATICS','DIGITAL PRINCIPAL AND SYSTEM DEISGN','DATA STRUCTURE','OOP LAUNGUAGE','COMMUNUCATION ENGINEERING','DATA STRUCTURE LAB','OOP LAB','DIGITAL SYSTEM LAB','INTERPERSONNEL SKILL LAB'],['PQT','COMPUTER ARCHITECTURE','DBMS','DAA','OS','SOFTWARE ENGINEERING','DBMS LAB','OOPS LAB','ADVANCED WRITING AND READING LAB'],[]]\n",
    "    cse_credit=[[4,3,3,4,3,4,2,2],[4,3,3,4,3,3,2,2],[4,4,3,3,3,2,2,2,1],[4,3,3,3,3,3,2,2,1]]\n",
    "    cgpa(cse_paper,cse_credit)\n",
    "    \n",
    "elif a=='ece':\n",
    "    E=10\n",
    "elif a=='mech':\n",
    "    E=10\n",
    "else:\n",
    "    print(\"PLEASE,ENTER ONLY THOSE 3 DEPARTMENT\")\n",
    "        "
   ]
  },
  {
   "cell_type": "code",
   "execution_count": 1,
   "metadata": {},
   "outputs": [
    {
     "ename": "NameError",
     "evalue": "name 'li' is not defined",
     "output_type": "error",
     "traceback": [
      "\u001b[1;31m---------------------------------------------------------------------------\u001b[0m",
      "\u001b[1;31mNameError\u001b[0m                                 Traceback (most recent call last)",
      "\u001b[1;32m<ipython-input-1-3fab4c9c2cf3>\u001b[0m in \u001b[0;36m<module>\u001b[1;34m\u001b[0m\n\u001b[1;32m----> 1\u001b[1;33m \u001b[0mli\u001b[0m\u001b[1;33m\u001b[0m\u001b[1;33m\u001b[0m\u001b[0m\n\u001b[0m",
      "\u001b[1;31mNameError\u001b[0m: name 'li' is not defined"
     ]
    }
   ],
   "source": [
    "li"
   ]
  },
  {
   "cell_type": "code",
   "execution_count": 9,
   "metadata": {},
   "outputs": [
    {
     "name": "stdout",
     "output_type": "stream",
     "text": [
      "<class 'int'>\n",
      "<class 'int'>\n",
      "<class 'int'>\n"
     ]
    }
   ],
   "source": [
    "for i in range(3):\n",
    "    print(type(i))"
   ]
  },
  {
   "cell_type": "markdown",
   "metadata": {},
   "source": [
    "# INTEREST CALCULATOR"
   ]
  },
  {
   "cell_type": "code",
   "execution_count": null,
   "metadata": {},
   "outputs": [
    {
     "name": "stdout",
     "output_type": "stream",
     "text": [
      "\t\t***INTEREST CALCULATOR***\n"
     ]
    }
   ],
   "source": [
    "print(\"\\t\\t***INTEREST CALCULATOR***\")\n",
    "import datetime\n",
    "a=float(input(\"Entre the pricipal amount:\"))\n",
    "b=float(input(\"Enter the interest rate:\"))\n",
    "c=list(map(int,input(\"Enter from date as yyyy,mm,da\").split(\",\")))\n",
    "c=datetime(c)\n",
    "d=datetime.datetime.now()\n",
    "print(d-c)"
   ]
  },
  {
   "cell_type": "code",
   "execution_count": null,
   "metadata": {},
   "outputs": [],
   "source": [
    "from datetime import datetime\n",
    "c=datetime(2015, 12, 23)\n",
    "d=datetime.datetime.now()\n",
    "print(d)"
   ]
  },
  {
   "cell_type": "code",
   "execution_count": null,
   "metadata": {},
   "outputs": [],
   "source": []
  }
 ],
 "metadata": {
  "kernelspec": {
   "display_name": "Python 3",
   "language": "python",
   "name": "python3"
  },
  "language_info": {
   "codemirror_mode": {
    "name": "ipython",
    "version": 3
   },
   "file_extension": ".py",
   "mimetype": "text/x-python",
   "name": "python",
   "nbconvert_exporter": "python",
   "pygments_lexer": "ipython3",
   "version": "3.7.6"
  }
 },
 "nbformat": 4,
 "nbformat_minor": 4
}
